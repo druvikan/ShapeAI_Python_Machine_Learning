{
  "cells": [
    {
      "cell_type": "code",
      "execution_count": null,
      "metadata": {
        "id": "ksbM2mwYlI8Y"
      },
      "outputs": [],
      "source": [
        "import numpy as np\n",
        "import pandas as pd\n",
        "import sklearn "
      ]
    },
    {
      "cell_type": "code",
      "execution_count": null,
      "metadata": {
        "colab": {
          "base_uri": "https://localhost:8080/"
        },
        "id": "97Pdytq_mThE",
        "outputId": "ea80b97f-437b-4c69-e112-5d1ff5d03d84"
      },
      "outputs": [],
      "source": [
        "from sklearn.datasets import load_boston\n",
        "df=load_boston()"
      ]
    },
    {
      "cell_type": "code",
      "execution_count": null,
      "metadata": {
        "colab": {
          "base_uri": "https://localhost:8080/"
        },
        "id": "aeDkchNnqSED",
        "outputId": "04b966bf-d66f-473e-9227-2d6dda15b7e8"
      },
      "outputs": [],
      "source": [
        "df.keys()\n"
      ]
    },
    {
      "cell_type": "code",
      "execution_count": null,
      "metadata": {
        "colab": {
          "base_uri": "https://localhost:8080/"
        },
        "id": "YBU_IEKvrFkG",
        "outputId": "60933880-671d-467c-b90d-3a2f6e51d3ae"
      },
      "outputs": [],
      "source": [
        "print(df.filename)"
      ]
    },
    {
      "cell_type": "code",
      "execution_count": null,
      "metadata": {
        "colab": {
          "base_uri": "https://localhost:8080/"
        },
        "id": "KnYi6I1draXz",
        "outputId": "956653c1-fdff-419d-f58e-88dd85cf1f9d"
      },
      "outputs": [],
      "source": [
        "print(df.data)"
      ]
    },
    {
      "cell_type": "code",
      "execution_count": null,
      "metadata": {
        "id": "SOuhlfC_rgP-"
      },
      "outputs": [],
      "source": []
    },
    {
      "cell_type": "code",
      "execution_count": null,
      "metadata": {
        "colab": {
          "base_uri": "https://localhost:8080/"
        },
        "id": "zVSZnmtprRe-",
        "outputId": "b92930e1-8322-4fa7-df84-8600783d0e8c"
      },
      "outputs": [],
      "source": [
        "print(df.target)"
      ]
    },
    {
      "cell_type": "code",
      "execution_count": null,
      "metadata": {
        "colab": {
          "base_uri": "https://localhost:8080/",
          "height": 206
        },
        "id": "p245kxVFrh7C",
        "outputId": "2d8018ab-0ae8-4440-f144-490fc6eb27c9"
      },
      "outputs": [],
      "source": [
        "boston=pd.DataFrame(df.data,columns=df.feature_names)\n",
        "boston.head()"
      ]
    },
    {
      "cell_type": "code",
      "execution_count": null,
      "metadata": {
        "colab": {
          "base_uri": "https://localhost:8080/",
          "height": 424
        },
        "id": "BvBgJQaEtRf_",
        "outputId": "bf04077b-f6c9-4707-c435-ea31c3840360"
      },
      "outputs": [],
      "source": [
        "boston['TARGET']=df.target\n",
        "boston.isnull()"
      ]
    },
    {
      "cell_type": "code",
      "execution_count": null,
      "metadata": {
        "id": "pLC3Pda8vAL3"
      },
      "outputs": [],
      "source": [
        "from sklearn.model_selection import train_test_split\n",
        "x=boston.drop('TARGET', axis=1)\n",
        "y=boston['TARGET']"
      ]
    },
    {
      "cell_type": "code",
      "execution_count": null,
      "metadata": {
        "id": "rzPMQIapxiVh"
      },
      "outputs": [],
      "source": [
        "x_train,x_test,y_train,y_test=train_test_split(x,y,test_size=0.15, random_state=5)"
      ]
    },
    {
      "cell_type": "code",
      "execution_count": null,
      "metadata": {
        "id": "Cs1kVl60yHMH"
      },
      "outputs": [],
      "source": [
        "from sklearn.linear_model import LinearRegression\n",
        "from sklearn.metrics import mean_squared_error"
      ]
    },
    {
      "cell_type": "code",
      "execution_count": null,
      "metadata": {
        "colab": {
          "base_uri": "https://localhost:8080/"
        },
        "id": "xm0T2VZ0yeSy",
        "outputId": "63518651-bb82-4374-d8ee-ed7fd9f10677"
      },
      "outputs": [],
      "source": [
        "lin_model=LinearRegression()\n",
        "lin_model.fit(x_train,y_train)"
      ]
    },
    {
      "cell_type": "code",
      "execution_count": null,
      "metadata": {
        "colab": {
          "base_uri": "https://localhost:8080/"
        },
        "id": "md4twDJFyzwL",
        "outputId": "276a169d-60bd-4f79-b212-9f96ed69683b"
      },
      "outputs": [],
      "source": [
        "y_train_predict=lin_model.predict(x_train)\n",
        "rmse=(np.sqrt(mean_squared_error(y_train,y_train_predict)))\n",
        "print(f\"The model performance for the training set  rmse is {rmse}\")\n"
      ]
    },
    {
      "cell_type": "code",
      "execution_count": null,
      "metadata": {
        "colab": {
          "base_uri": "https://localhost:8080/"
        },
        "id": "jCeuiut20utC",
        "outputId": "3067927d-2453-4f33-8aec-1f2e1c6b0649"
      },
      "outputs": [],
      "source": [
        "y_test_predict=lin_model.predict(x_test)\n",
        "rms_e=(np.sqrt(mean_squared_error(y_test,y_test_predict)))\n",
        "print(f\"The model performance for the testing set  rmse is {rms_e}\")"
      ]
    }
  ],
  "metadata": {
    "colab": {
      "collapsed_sections": [],
      "provenance": []
    },
    "kernelspec": {
      "display_name": "Python 3",
      "name": "python3"
    },
    "language_info": {
      "name": "python"
    }
  },
  "nbformat": 4,
  "nbformat_minor": 0
}
